{
 "cells": [
  {
   "cell_type": "code",
   "execution_count": 9,
   "metadata": {},
   "outputs": [],
   "source": [
    "import numpy as np\n",
    "import pandas as pd"
   ]
  },
  {
   "cell_type": "code",
   "execution_count": 12,
   "metadata": {},
   "outputs": [
    {
     "name": "stdout",
     "output_type": "stream",
     "text": [
      "   x_1  x_2\n",
      "0    1    1\n",
      "1    0    1\n",
      "2    0    0\n",
      "3    0    1\n",
      "4    1    1\n",
      "   x_2  x_3\n",
      "0    0    1\n",
      "1    0    0\n",
      "2    1    0\n",
      "3    1    0\n",
      "4    0    0\n"
     ]
    }
   ],
   "source": [
    "# marginal data p(x_1, x_2)\n",
    "d1 = pd.DataFrame(np.random.randint(2, size=(100,2)), \n",
    "                       columns=['x_1', 'x_2']) \n",
    "print(d1.head())\n",
    "\n",
    "# marginal data p(x_2, x_3) \n",
    "d2 = pd.DataFrame(np.random.randint(2, size=(100,2)), \n",
    "                       columns=['x_2', 'x_3']) \n",
    "print(d2.head())"
   ]
  },
  {
   "cell_type": "code",
   "execution_count": 33,
   "metadata": {},
   "outputs": [],
   "source": [
    "p_a = {\n",
    "    (0, 0): 0.1,\n",
    "    (1, 0): 0.3,\n",
    "    (0, 1): 0.4\n",
    "}\n",
    "p_b = {\n",
    "    (0, 0): 0.5,\n",
    "    (1, 0): 0.1,\n",
    "    (0, 1): 0.2\n",
    "}\n"
   ]
  },
  {
   "cell_type": "code",
   "execution_count": 38,
   "metadata": {},
   "outputs": [
    {
     "name": "stdout",
     "output_type": "stream",
     "text": [
      "The matrix is singular; no unique solution exists.\n"
     ]
    }
   ],
   "source": [
    "# Define the matrix A (7x7)\n",
    "A = np.array([\n",
    "    [1, 1, 1, 1, 1, 1, 1],\n",
    "    [1, 0, 0, 0, 0, 0, 0],\n",
    "    [0, 1, 1, 0, 0, 0, 0],\n",
    "    [0, 0, 0, 1, 1, 0, 0],\n",
    "    [0, 1, 0, 0, 0, 0, 0],\n",
    "    [0, 0, 0, 1, 0, 1, 0],\n",
    "    [1, 0, 1, 0, 0, 0, 0]\n",
    "])\n",
    "\n",
    "# Define constants\n",
    "c = 0.02  # Example value for c\n",
    "p_a = {\n",
    "    (0, 0): 0.2,\n",
    "    (1, 0): 0.3,\n",
    "    (0, 1): 0.4\n",
    "}\n",
    "p_b = {\n",
    "    (0, 0): 0.25,\n",
    "    (1, 0): 0.35,\n",
    "    (0, 1): 0.15\n",
    "}\n",
    "\n",
    "# Define the right-hand side vector b\n",
    "b = np.array([\n",
    "    1 - c,\n",
    "    p_a[(0, 0)] - c,\n",
    "    p_a[(1, 0)],\n",
    "    p_a[(0, 1)],\n",
    "    p_b[(0, 0)] - c,\n",
    "    p_b[(1, 0)],\n",
    "    p_b[(0, 1)]\n",
    "])\n",
    "\n",
    "# Solve the system A * p = b\n",
    "try:\n",
    "    p = np.linalg.solve(A, b)\n",
    "    print(\"Solution for [p_{001}, p_{100}, p_{101}, p_{010}, p_{011}, p_{110}, p_{111}]:\")\n",
    "    print(p)\n",
    "except np.linalg.LinAlgError:\n",
    "    print(\"The matrix is singular; no unique solution exists.\")\n"
   ]
  },
  {
   "cell_type": "code",
   "execution_count": 41,
   "metadata": {},
   "outputs": [
    {
     "name": "stdout",
     "output_type": "stream",
     "text": [
      "The optimization did not converge: The problem is infeasible. (HiGHS Status 8: model_status is Infeasible; primal_status is At lower/fixed bound)\n"
     ]
    }
   ],
   "source": [
    "import numpy as np\n",
    "from scipy.optimize import linprog\n",
    "\n",
    "# Coefficients for the objective function (zero since we just want feasibility)\n",
    "c = np.zeros(7)\n",
    "\n",
    "# Coefficients for the inequality constraints (no inequalities in this problem)\n",
    "A_ineq = None\n",
    "b_ineq = None\n",
    "\n",
    "# Coefficients for the equality constraints\n",
    "A_eq = np.array([\n",
    "    [1, 1, 1, 1, 1, 1, 1],  # p_{001} + p_{100} + p_{010} + p_{101} + p_{011} + p_{110} + p_{111} = 1 - c\n",
    "    [1, 0, 0, 0, 0, 0, 0],  # p_{001} = \\hat{p}_a(0, 0) - c\n",
    "    [0, 1, 1, 0, 0, 0, 0],  # p_{100} + p_{101} = \\hat{p}_a(1, 0)\n",
    "    [0, 0, 0, 1, 1, 0, 0],  # p_{010} + p_{011} = \\hat{p}_a(0, 1)\n",
    "    [0, 1, 0, 0, 0, 0, 0],  # p_{100} = \\hat{p}_b(0, 0) - c\n",
    "    [0, 0, 0, 1, 0, 1, 0],  # p_{010} + p_{110} = \\hat{p}_b(1, 0)\n",
    "    [1, 0, 1, 0, 0, 0, 0]   # p_{001} + p_{101} = \\hat{p}_b(0, 1)\n",
    "])\n",
    "\n",
    "# Define constants\n",
    "c_val = 0.5  # Example value for c\n",
    "p_a = {\n",
    "    (0, 0): 0.2,\n",
    "    (1, 0): 0.3,\n",
    "    (0, 1): 0.4\n",
    "}\n",
    "p_b = {\n",
    "    (0, 0): 0.25,\n",
    "    (1, 0): 0.35,\n",
    "    (0, 1): 0.15\n",
    "}\n",
    "\n",
    "# Define the right-hand side vector b (must include the adjusted value for c)\n",
    "b_eq = np.array([\n",
    "    1 - c_val,\n",
    "    p_a[(0, 0)] - c_val,\n",
    "    p_a[(1, 0)],\n",
    "    p_a[(0, 1)],\n",
    "    p_b[(0, 0)] - c_val,\n",
    "    p_b[(1, 0)],\n",
    "    p_b[(0, 1)]\n",
    "])\n",
    "\n",
    "# Bounds for each variable (0 <= p <= 1)\n",
    "bounds = [(0, 1) for _ in range(7)]\n",
    "\n",
    "# Solve the linear programming problem\n",
    "result = linprog(c, A_eq=A_eq, b_eq=b_eq, bounds=bounds)\n",
    "\n",
    "# Check the result\n",
    "if result.success:\n",
    "    print(\"Solution for [p_{001}, p_{100}, p_{101}, p_{010}, p_{011}, p_{110}, p_{111}]:\")\n",
    "    print(result.x)\n",
    "else:\n",
    "    print(\"The optimization did not converge:\", result.message)\n"
   ]
  },
  {
   "cell_type": "code",
   "execution_count": 45,
   "metadata": {},
   "outputs": [
    {
     "name": "stdout",
     "output_type": "stream",
     "text": [
      "Right-hand side vector (b_eq): [0.801 0.001 0.3   0.4   0.051 0.35  0.15 ]\n",
      "The optimization did not converge: The problem is infeasible. (HiGHS Status 8: model_status is Infeasible; primal_status is At lower/fixed bound)\n"
     ]
    }
   ],
   "source": [
    "import numpy as np\n",
    "from scipy.optimize import linprog\n",
    "\n",
    "# Coefficients for the objective function (zero since we just want feasibility)\n",
    "c = np.zeros(7)\n",
    "\n",
    "# Coefficients for the equality constraints\n",
    "A_eq = np.array([\n",
    "    [1, 1, 1, 1, 1, 1, 1],  # p_{001} + p_{100} + p_{010} + p_{101} + p_{011} + p_{110} + p_{111} = 1 - c\n",
    "    [1, 0, 0, 0, 0, 0, 0],  # p_{001} = \\hat{p}_a(0, 0) - c\n",
    "    [0, 1, 1, 0, 0, 0, 0],  # p_{100} + p_{101} = \\hat{p}_a(1, 0)\n",
    "    [0, 0, 0, 1, 1, 0, 0],  # p_{010} + p_{011} = \\hat{p}_a(0, 1)\n",
    "    [0, 1, 0, 0, 0, 0, 0],  # p_{100} = \\hat{p}_b(0, 0) - c\n",
    "    [0, 0, 0, 1, 0, 1, 0],  # p_{010} + p_{110} = \\hat{p}_b(1, 0)\n",
    "    [1, 0, 1, 0, 0, 0, 0]   # p_{001} + p_{101} = \\hat{p}_b(0, 1)\n",
    "])\n",
    "\n",
    "# Define constants\n",
    "c_val = 0.199  # Example value for c\n",
    "p_a = {\n",
    "    (0, 0): 0.2,\n",
    "    (1, 0): 0.3,\n",
    "    (0, 1): 0.4\n",
    "}\n",
    "p_b = {\n",
    "    (0, 0): 0.25,\n",
    "    (1, 0): 0.35,\n",
    "    (0, 1): 0.15\n",
    "}\n",
    "\n",
    "# Define the right-hand side vector b (must include the adjusted value for c)\n",
    "b_eq = np.array([\n",
    "    1 - c_val,                         # First equation: 1 - c\n",
    "    p_a[(0, 0)] - c_val,               # Second equation: p_{001}\n",
    "    p_a[(1, 0)],                       # Third equation: p_{100} + p_{101}\n",
    "    p_a[(0, 1)],                       # Fourth equation: p_{010} + p_{011}\n",
    "    p_b[(0, 0)] - c_val,               # Fifth equation: p_{100}\n",
    "    p_b[(1, 0)],                       # Sixth equation: p_{010} + p_{110}\n",
    "    p_b[(0, 1)]                        # Seventh equation: p_{001} + p_{101}\n",
    "])\n",
    "\n",
    "# Print the right-hand side vector to diagnose issues\n",
    "print(\"Right-hand side vector (b_eq):\", b_eq)\n",
    "\n",
    "# Bounds for each variable (0 <= p <= 1)\n",
    "bounds = [(0, 1) for _ in range(7)]\n",
    "\n",
    "# Solve the linear programming problem\n",
    "result = linprog(c, A_eq=A_eq, b_eq=b_eq, bounds=bounds, method='highs')\n",
    "\n",
    "# Check the result\n",
    "if result.success:\n",
    "    print(\"Solution for [p_{001}, p_{100}, p_{101}, p_{010}, p_{011}, p_{110}, p_{111}]:\")\n",
    "    print(result.x)\n",
    "else:\n",
    "    print(\"The optimization did not converge:\", result.message)\n"
   ]
  },
  {
   "cell_type": "code",
   "execution_count": 34,
   "metadata": {},
   "outputs": [
    {
     "name": "stdout",
     "output_type": "stream",
     "text": [
      "0.0\n",
      "The matrix is singular; no unique solution exists.\n"
     ]
    }
   ],
   "source": [
    "# Define the matrix of coefficients (7x7 matrix)\n",
    "A = np.array([\n",
    "    [1, 1, 1, 1, 1, 1, 1],\n",
    "    [1, 0, 0, 0, 0, 0, 0],\n",
    "    [0, 1, 1, 0, 0, 0, 0],\n",
    "    [0, 0, 0, 1, 1, 0, 0],\n",
    "    [0, 1, 0, 0, 0, 0, 0],\n",
    "    [0, 0, 0, 1, 0, 1, 0],\n",
    "    [1, 0, 1, 0, 0, 0, 0]\n",
    "])\n",
    "\n",
    "print(np.linalg.det(A))\n",
    "\n",
    "# Define the constants\n",
    "c = 0.5  # Example value; set c according to your context\n",
    "\n",
    "# Define the right-hand side vector\n",
    "b = np.array([\n",
    "    1 - c,\n",
    "    p_a[(0, 0)] - c,\n",
    "    p_a[(1, 0)],\n",
    "    p_a[(0, 1)],\n",
    "    p_b[(0, 0)] - c,\n",
    "    p_b[(1, 0)],\n",
    "    p_b[(0, 1)]\n",
    "])\n",
    "\n",
    "# Solve the linear system A * x = b\n",
    "try:\n",
    "    x = np.linalg.solve(A, b)\n",
    "    print(\"Solution for [p_{001}, p_{100}, p_{101}, p_{010}, p_{011}, p_{110}, p_{111}]:\")\n",
    "    print(x)\n",
    "except np.linalg.LinAlgError:\n",
    "    print(\"The matrix is singular; no unique solution exists.\")"
   ]
  }
 ],
 "metadata": {
  "kernelspec": {
   "display_name": "joint-dist-toy",
   "language": "python",
   "name": "python3"
  },
  "language_info": {
   "codemirror_mode": {
    "name": "ipython",
    "version": 3
   },
   "file_extension": ".py",
   "mimetype": "text/x-python",
   "name": "python",
   "nbconvert_exporter": "python",
   "pygments_lexer": "ipython3",
   "version": "3.11.7"
  }
 },
 "nbformat": 4,
 "nbformat_minor": 2
}
