{
 "cells": [
  {
   "cell_type": "code",
   "execution_count": null,
   "metadata": {
    "vscode": {
     "languageId": "plaintext"
    }
   },
   "outputs": [],
   "source": [
    "import numpy as np\n",
    "\n",
    "# Define the matrix of coefficients (7x7 matrix)\n",
    "A = np.array([\n",
    "    [1, 1, 1, 1, 1, 1, 1],\n",
    "    [1, 0, 0, 0, 0, 0, 0],\n",
    "    [0, 1, 1, 0, 0, 0, 0],\n",
    "    [0, 0, 0, 0, 1, 1, 0],\n",
    "    [0, 0, 0, 1, 0, 0, 0],\n",
    "    [0, 0, 0, 0, 1, 0, 1],\n",
    "    [1, 1, 0, 0, 0, 0, 0]\n",
    "])\n",
    "\n",
    "# Define the constants\n",
    "c = 0.5  # Example value; set c according to your context\n",
    "p_a = {\n",
    "    (0, 0): 0.2,\n",
    "    (1, 0): 0.3,\n",
    "    (0, 1): 0.4\n",
    "}\n",
    "p_b = {\n",
    "    (0, 0): 0.2,\n",
    "    (1, 0): 0.3,\n",
    "    (0, 1): 0.4\n",
    "}\n",
    "\n",
    "# Define the right-hand side vector\n",
    "b = np.array([\n",
    "    1 - c,\n",
    "    p_a[(0, 0)] - c,\n",
    "    p_a[(1, 0)],\n",
    "    p_a[(0, 1)],\n",
    "    p_b[(0, 0)] - c,\n",
    "    p_b[(1, 0)],\n",
    "    p_b[(0, 1)]\n",
    "])\n",
    "\n",
    "# Solve the linear system A * x = b\n",
    "try:\n",
    "    x = np.linalg.solve(A, b)\n",
    "    print(\"Solution for [p_{001}, p_{101}, p_{111}, p_{100}, p_{010}, p_{011}, p_{110}]:\")\n",
    "    print(x)\n",
    "except np.linalg.LinAlgError:\n",
    "    print(\"The matrix is singular; no unique solution exists.\")"
   ]
  }
 ],
 "metadata": {
  "language_info": {
   "name": "python"
  }
 },
 "nbformat": 4,
 "nbformat_minor": 2
}
